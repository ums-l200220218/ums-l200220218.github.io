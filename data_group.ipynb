{
 "cells": [
  {
   "cell_type": "code",
   "execution_count": 1,
   "id": "2792d486-d87a-4cb2-802b-14b92f14bbd3",
   "metadata": {},
   "outputs": [
    {
     "name": "stdout",
     "output_type": "stream",
     "text": [
      "Data berhasil diproses dan disimpan ke parsed_whatsapp_data.csv\n"
     ]
    }
   ],
   "source": [
    "import re\n",
    "import pandas as pd\n",
    "\n",
    "# Membaca file teks\n",
    "file_path = \"Himatif.txt\"\n",
    "\n",
    "with open(file_path, \"r\", encoding=\"utf-8\") as file:\n",
    "    data = file.readlines()\n",
    "\n",
    "# Variabel untuk menyimpan hasil parsing\n",
    "parsed_data = []\n",
    "\n",
    "# Pola regex untuk memisahkan timestamp, sender, dan pesan\n",
    "pattern = r\"^(\\d{2}/\\d{2}/\\d{2} \\d{2}\\.\\d{2}) - ([^:]+): (.+)\"\n",
    "\n",
    "# Memproses setiap baris\n",
    "for line in data:\n",
    "    match = re.match(pattern, line)\n",
    "    if match:\n",
    "        # Jika cocok, pisahkan menjadi Timestamp, Sender, dan Message\n",
    "        timestamp, sender, message = match.groups()\n",
    "        parsed_data.append([timestamp, sender, message])\n",
    "    else:\n",
    "        # Jika tidak cocok (pesan lanjutan), tambahkan ke pesan sebelumnya\n",
    "        if parsed_data:\n",
    "            parsed_data[-1][2] += \" \" + line.strip()\n",
    "\n",
    "# Membuat DataFrame dengan kolom terpisah\n",
    "df = pd.DataFrame(parsed_data, columns=[\"Timestamp\", \"Sender\", \"Message\"])\n",
    "\n",
    "# Menyimpan hasil ke file CSV dengan pemisah titik koma (;)\n",
    "output_file = \"parsed_whatsapp_data.csv\"\n",
    "df.to_csv(output_file, index=False, encoding=\"utf-8\", sep=\";\")\n",
    "\n",
    "print(f\"Data berhasil diproses dan disimpan ke {output_file}\")\n"
   ]
  },
  {
   "cell_type": "code",
   "execution_count": null,
   "id": "b7d34555-c91e-4c24-8a2c-251be3e5251a",
   "metadata": {},
   "outputs": [],
   "source": []
  },
  {
   "cell_type": "code",
   "execution_count": null,
   "id": "c1f02e10-1c98-4d33-a487-c6fbccedf333",
   "metadata": {},
   "outputs": [],
   "source": []
  }
 ],
 "metadata": {
  "kernelspec": {
   "display_name": "Python 3 (ipykernel)",
   "language": "python",
   "name": "python3"
  },
  "language_info": {
   "codemirror_mode": {
    "name": "ipython",
    "version": 3
   },
   "file_extension": ".py",
   "mimetype": "text/x-python",
   "name": "python",
   "nbconvert_exporter": "python",
   "pygments_lexer": "ipython3",
   "version": "3.9.20"
  }
 },
 "nbformat": 4,
 "nbformat_minor": 5
}
